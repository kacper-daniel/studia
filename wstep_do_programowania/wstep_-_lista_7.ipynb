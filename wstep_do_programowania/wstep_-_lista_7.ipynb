{
 "cells": [
  {
   "cell_type": "markdown",
   "metadata": {},
   "source": [
    "# Wstęp do programowania\n",
    "\n",
    "## Lista 7\n",
    "\n",
    "Uzupełnij swoje dane poniżej, następnie przeczytaj treść zadań i umieść rozwiązania w odpowidenich komórkach pozostawionych w tym celu pod treścią. Pamiętaj dbać o specyfikację, czyli nazwy zmiennych oraz odpowiednie rozmieszczenie komórek. Jeśli uruchomisz wszystkie komórki, dokument powinien działać bez błędów.<br>\n",
    "Możesz (ale nie musisz) korzystać ze wszystkiego, co wiesz, czyli możesz definiować funkcje, używać instrukcji warunkowych itd. itp. "
   ]
  },
  {
   "cell_type": "markdown",
   "metadata": {},
   "source": [
    "  * **Imię:** ...\n",
    "  * **Nazwisko:** ...\n",
    "  * **Numer indeksu:** ..."
   ]
  },
  {
   "cell_type": "markdown",
   "metadata": {},
   "source": [
    "Napisz program, który znajduje wszystkie rzeczywiste rozwiązania równania:\n",
    "$$ax^2+bx+c=0$$\n",
    "zadanego przez zmienne `a`, `b` i `c`. Możesz utworzyć dowolnie wiele zmiennych pomocniczych (pod warunkiem, że będzie ich skończenie wiele)."
   ]
  },
  {
   "cell_type": "code",
   "execution_count": 6,
   "metadata": {},
   "outputs": [],
   "source": [
    "a=1\n",
    "b=2\n",
    "c=1"
   ]
  },
  {
   "cell_type": "markdown",
   "metadata": {},
   "source": [
    "Rozwiązanie:"
   ]
  },
  {
   "cell_type": "code",
   "execution_count": 7,
   "metadata": {},
   "outputs": [
    {
     "name": "stdout",
     "output_type": "stream",
     "text": [
      "-1.0\n"
     ]
    }
   ],
   "source": [
    "import math\n",
    "\n",
    "def rownanie_kwadratowe(a, b, c):\n",
    "    delta = b**2 - 4*a*c\n",
    "    if delta < 0:\n",
    "        return \"brak rozwiazania\"\n",
    "    elif delta == 0:\n",
    "        return -b/(2*a)\n",
    "    else:\n",
    "        return ((-b + math.sqrt(delta))/(2*a), (-b - math.sqrt(delta))/(2*a))\n",
    "\n",
    "print(rownanie_kwadratowe(a,b,c)) "
   ]
  },
  {
   "cell_type": "markdown",
   "metadata": {},
   "source": [
    "### Zadanie 2\n",
    "\n",
    "Oblicz pole czworokąta o zadanych wierzchołkach, zapisanych w zmiennych `A`, `B`, `C` oraz `D`."
   ]
  },
  {
   "cell_type": "code",
   "execution_count": null,
   "metadata": {},
   "outputs": [],
   "source": [
    "A = (0,0)\n",
    "B = (0,3)\n",
    "C = (1,1)\n",
    "D = (4,0)"
   ]
  },
  {
   "cell_type": "markdown",
   "metadata": {},
   "source": [
    "_Rozwiązanie umieść poniżej, po wywołaniu komórki odpowiedź powinna być zapisana w zmiennej `pole`. Możesz utworzyć dowolnie wiele zmiennych pomocniczych._"
   ]
  },
  {
   "cell_type": "code",
   "execution_count": null,
   "metadata": {},
   "outputs": [],
   "source": [
    "\n",
    "pole = ..."
   ]
  },
  {
   "cell_type": "markdown",
   "metadata": {},
   "source": [
    "**Odpowiedź:** Pole wynosi"
   ]
  },
  {
   "cell_type": "code",
   "execution_count": null,
   "metadata": {},
   "outputs": [],
   "source": [
    "pole"
   ]
  },
  {
   "cell_type": "markdown",
   "metadata": {},
   "source": [
    "### Zadanie 3\n",
    "\n",
    "Wielkanoc jest świętem ruchomym. Jest co najmniej kilka algorytmów pozwalających wyznaczyć datę wielkanocy w danym roku kalendarzowym, jednym z nich jest <a href=\"http://www.algorytm.org/przetwarzanie-dat/wyznaczanie-daty-wielkanocy-metoda-meeusa-jonesa-butchera.html\">algorytm Meeusa/Jonesa/Butchera</a>\n",
    "\n",
    "#### Podpunkt a\n",
    "\n",
    "Oblicz datę wielkanocy w przyszłym roku kalendarzowym"
   ]
  },
  {
   "cell_type": "code",
   "execution_count": 9,
   "metadata": {},
   "outputs": [],
   "source": [
    "R1 = 2024"
   ]
  },
  {
   "cell_type": "markdown",
   "metadata": {},
   "source": [
    "_Rozwiązanie umieść poniżej, po wywołaniu komórki odpowiedź powinna być zapisana w zmiennej `wielkanoc` (samodzielnie zaproponuj \"typ\" tej zmiennej). Możesz utworzyć dowolnie wiele zmiennych pomocniczych._"
   ]
  },
  {
   "cell_type": "code",
   "execution_count": 15,
   "metadata": {},
   "outputs": [],
   "source": [
    "def kiedy_wielkanoc(rok):\n",
    "    a = rok % 19\n",
    "    b = math.floor(rok/100)\n",
    "    c = rok % 100\n",
    "    d = math.floor(b / 4)\n",
    "    e = b % 4\n",
    "    f = math.floor((b+8)/25)\n",
    "    g = math.floor((b-f+1)/3)\n",
    "    h = (19 * a + b - d - g + 15) % 30\n",
    "    i = math.floor(c/4)\n",
    "    k = c % 4\n",
    "    l = (32 + 2 *e + 2*i - h - k) % 7\n",
    "    m = math.floor((a+11*h+22*l) / 451)\n",
    "    p = (h+ l - 7*m + 114) % 31\n",
    "    dzien = p + 1\n",
    "    miesiac = math.floor((h + l - 7*m + 114)/31)\n",
    "\n",
    "    return [dzien, miesiac, rok]\n",
    "\n",
    "wielkanoc = kiedy_wielkanoc(R1) "
   ]
  },
  {
   "cell_type": "markdown",
   "metadata": {},
   "source": [
    "Wpisz kod wypisujący całym zdaniem odpowiedź na pytanie, kiedy będzie wielkanoc w zadanym roku:"
   ]
  },
  {
   "cell_type": "code",
   "execution_count": 16,
   "metadata": {},
   "outputs": [
    {
     "name": "stdout",
     "output_type": "stream",
     "text": [
      "W roku 2024 wielkanoc będzie 31.3\n"
     ]
    }
   ],
   "source": [
    "print(f\"W roku {R1} wielkanoc będzie {kiedy_wielkanoc(R1)[0]}.{kiedy_wielkanoc(R1)[1]}\")"
   ]
  },
  {
   "cell_type": "markdown",
   "metadata": {},
   "source": [
    "#### Podpunkt b\n",
    "\n",
    "Sprawdź, w którym roku w bieżącym wieku wielkanoc przypada najpóźniej (w sensie miesiąca i dnia). Najlepiej, gdyby odpowiedź w całości potrafił znaleźć Twój program."
   ]
  },
  {
   "cell_type": "code",
   "execution_count": 27,
   "metadata": {},
   "outputs": [
    {
     "name": "stdout",
     "output_type": "stream",
     "text": [
      "(25, 4)\n"
     ]
    }
   ],
   "source": [
    "daty = {(kiedy_wielkanoc(R)[1], kiedy_wielkanoc(R)[0]) for R in range(2001, 2101)}\n",
    "print((max(daty)[1], max(daty)[0]))"
   ]
  },
  {
   "cell_type": "markdown",
   "metadata": {},
   "source": [
    "### Zadanie 4\n",
    "\n",
    "Godziny wschodu i zachodu słońca dla danej długości i szerokości geograficznej można wyliczyć korzystając ze <a href=\"http://cybermoon.pl/wiedza/algorithms/wschody_slonca2.html\">znanych algorytmów</a>. Napisz program, który wylicza godzinę wschodu i zachodu słońca we Wrocławiu (może być dla ustalenia uwagi godzina dla budynku Wydziału Matematyki) w dniu jego (programu) uruchomienia.<BR><BR>\n",
    "<I>Podpowiedź:</I>"
   ]
  },
  {
   "cell_type": "code",
   "execution_count": 28,
   "metadata": {
    "scrolled": true
   },
   "outputs": [
    {
     "data": {
      "text/plain": [
       "'Dziś jest 6.12.2023'"
      ]
     },
     "execution_count": 28,
     "metadata": {},
     "output_type": "execute_result"
    }
   ],
   "source": [
    "import datetime\n",
    "\n",
    "x = datetime.datetime.now()\n",
    "\"Dziś jest {d}.{m}.{r}\".format(d=x.day,m=x.month,r=x.year)"
   ]
  },
  {
   "cell_type": "markdown",
   "metadata": {},
   "source": [
    "Rozwiązanie:"
   ]
  },
  {
   "cell_type": "code",
   "execution_count": 61,
   "metadata": {},
   "outputs": [
    {
     "name": "stdout",
     "output_type": "stream",
     "text": [
      "(0.8226701298305095, 22.62183730813186)\n"
     ]
    }
   ],
   "source": [
    "szer = 51.107928\n",
    "dlg = 17.057299\n",
    "dzisiaj = datetime.datetime.now()\n",
    "rok = dzisiaj.year\n",
    "miesiac = dzisiaj.month\n",
    "dzien = dzisiaj.day\n",
    "\n",
    "def kiedy_wschod_zachod(dlg, szer, rok, miesiac, dzien):\n",
    "    n3 = math.pi/180\n",
    "    o3 = 57.29577951\n",
    "    d5 = rok\n",
    "    d6 = miesiac\n",
    "    d7 = dzien\n",
    "\n",
    "    if d6 <= 2:\n",
    "        e6 = d6+12\n",
    "        e7 = d5 - 1\n",
    "    else:\n",
    "        e6 = d6\n",
    "        e7 = d5\n",
    "    \n",
    "    l5 = int(d5/100)\n",
    "    l6 = 2-l5+int(l5/4)\n",
    "    l7 = int(365.25*(e7+4716))+int(30.6001*(e6+1))+d7+l6-1524.5\n",
    "    m3 = (l7-2451545)/36525\n",
    "    m4 = 280.46646+36000.76983*m3+0.0003032*m3*m3\n",
    "    m5 = 357.52911+35999.05029*m3-0.0001537*m3*m3\n",
    "    n5 = m5/360\n",
    "    o5 = (n5-int(n5))*360\n",
    "    m6 = (1.914602-0.004817*m3-0.000014*m3*m3)*math.sin(o5*n3)\n",
    "    m7 = (0.019993-0.000101*m3)*math.sin(2*o5*n3)\n",
    "    m8 = 0.000289*math.sin(3*o5*n3)\n",
    "    m9 = m6+m7+m8\n",
    "    n4 = m4/360\n",
    "    o4 = (n4-int(n4))*360\n",
    "    n6 = o4+m9\n",
    "    n7 = 125.04-1934.136*m3\n",
    "\n",
    "    if n7 < 0:\n",
    "        n9 = n7+360\n",
    "    else:\n",
    "        n9 = n7\n",
    "\n",
    "    n10 = n6 - 0.00569 - 0.00478* math.sin(n9*n3)\n",
    "    m11 = 23.43930278-0.0130042*m3-0.000000163*m3*m3\n",
    "    n11 = math.sin(m11*m3)*math.sin(n10*n3)\n",
    "    n12 = math.asin(n11)*(180/math.pi)\n",
    "    n15 = dlg/15\n",
    "    o15 = szer\n",
    "    m13 = (7.7*math.sin((o4+78)*n3)-9.5*math.sin(2*o4*n3))/60\n",
    "    o16 = math.cos(n12*n3)*math.cos(o15*n3)\n",
    "    n16 = -0.01483-math.sin(n12*n3)*math.sin(o15*n3)\n",
    "    p15 = 2*(math.acos(n16/o16)*o3)/15\n",
    "\n",
    "    godzina_wschodu = 13-n15+m13-(p15/2)\n",
    "    godzina_zachodu = 13-n15+m13+(p15/2)\n",
    "\n",
    "    return (godzina_wschodu, godzina_zachodu)\n",
    "    \n",
    "print(kiedy_wschod_zachod(dlg, szer, rok, miesiac, dzien))"
   ]
  },
  {
   "cell_type": "markdown",
   "metadata": {},
   "source": [
    "### Zadanie 5\n",
    "\n",
    "Załóżmy, że zakładamy $n$-letnią lokatę na $p$ procent w skali roku z $m$ kapitalizacjami w ciągu roku. Oznacza to, że po dowolnym spośród $n\\cdot m$ okresów kapitalizacji, zarobimy $\\frac{p}{m}$ procent (bank zaokrągli kwotę w dół do pełnych groszy). Następnie, odliczony zostanie podatek od dochodów kapitałowych (19%). Kwota po odliczeniu podatku zostanie ponownie zaokrąglona do pełnych groszy w dół i doliczona do początkowego kapitału, który będzie „pracował” w kolejnym okresie kapitalizacji.\n",
    "\n",
    "##### Podpunkt a\n",
    "\n",
    "Dla uproszczenia pomińmy chwilowo dwa miejsca, w których zaokrąglamy kwoty w dół do pełnych groszy.\n",
    "\n",
    "Ile procent początkowej kwoty zarobi każda z poniższych lokat?\n",
    "\n",
    "  * dwuletnia na 2.3% w skali roku z rocznym okresem kapitalizacji,"
   ]
  },
  {
   "cell_type": "code",
   "execution_count": 54,
   "metadata": {},
   "outputs": [],
   "source": [
    "n1 = 2\n",
    "p1 = 0.023\n",
    "m1 = 1\n",
    "\n",
    "procent1 = (1+p1/m1)**(n1*m1)"
   ]
  },
  {
   "cell_type": "markdown",
   "metadata": {},
   "source": [
    "   * dwuletnia na 2.25% w skali roku z półrocznym okresem kapitalizacji,\n"
   ]
  },
  {
   "cell_type": "code",
   "execution_count": 55,
   "metadata": {},
   "outputs": [],
   "source": [
    "n2 = 2\n",
    "p2 = 0.0225\n",
    "m2 = 2\n",
    "\n",
    "procent2 = (1+p2/m2)**(n2*m2)"
   ]
  },
  {
   "cell_type": "markdown",
   "metadata": {},
   "source": [
    "  * dwuletnia na 2.2% w skali roku z kwartalnym okresem kapitalizacji,"
   ]
  },
  {
   "cell_type": "code",
   "execution_count": 56,
   "metadata": {},
   "outputs": [],
   "source": [
    "n3 = 2\n",
    "p3 = 0.022\n",
    "m3 = 4\n",
    "\n",
    "procent3 = (1+p3/m3)**(n3*m3)"
   ]
  },
  {
   "cell_type": "markdown",
   "metadata": {},
   "source": [
    "  * dwuletnia na 2.15% w skali roku z dziennym okresem kapitalizacji (zakładamy, że lokata trwa dwa razy po 365 dni)."
   ]
  },
  {
   "cell_type": "code",
   "execution_count": 57,
   "metadata": {},
   "outputs": [],
   "source": [
    "n4 = 2\n",
    "p4 = 0.0215\n",
    "m4 = 365\n",
    "\n",
    "procent4 = (1+p4/m4)**(n4*m4)"
   ]
  },
  {
   "cell_type": "markdown",
   "metadata": {},
   "source": [
    "#### Podpunkt b\n",
    "\n",
    "Tym razem nie pomijamy zaokrągleń w dół do pełnych groszy. Na lokatę wpłacamy 1000,00PLN. Ile złotych (i groszy) zarobią następujące lokaty?\n",
    "\n",
    "  * dwuletnia na 2.3% w skali roku z rocznym okresem kapitalizacji,"
   ]
  },
  {
   "cell_type": "code",
   "execution_count": 58,
   "metadata": {},
   "outputs": [],
   "source": [
    "n5 = 2\n",
    "p5 = 0.023\n",
    "m5 = 1\n",
    "kwota5 = 1000\n",
    "\n",
    "zysk5 = (kwota5*((1+round((p5/m5), 2)))**(n5*m5))"
   ]
  },
  {
   "cell_type": "markdown",
   "metadata": {},
   "source": [
    "  *  dwuletnia na 2.25% w skali roku z półrocznym okresem kapitalizacji."
   ]
  },
  {
   "cell_type": "code",
   "execution_count": 59,
   "metadata": {},
   "outputs": [],
   "source": [
    "n6 = 2\n",
    "p6 = 0.0225\n",
    "m6 = 2\n",
    "kwota6 = 1000\n",
    "\n",
    "zysk6 = (kwota6*((1+round((p6/m6), 2)))**(n6*m6))"
   ]
  },
  {
   "cell_type": "code",
   "execution_count": 60,
   "metadata": {},
   "outputs": [
    {
     "name": "stdout",
     "output_type": "stream",
     "text": [
      "wyniki\n",
      "1.0465289999999998\n",
      "1.0457650863305663\n",
      "1.044856381336991\n",
      "1.0439365728204077\n",
      "1040.4\n",
      "1040.60401\n"
     ]
    }
   ],
   "source": [
    "print(\"wyniki\")\n",
    "print(f\"{procent1}\\n{procent2}\\n{procent3}\\n{procent4}\\n{zysk5}\\n{zysk6}\")"
   ]
  },
  {
   "cell_type": "markdown",
   "metadata": {},
   "source": [
    "<div style=\"text-align: right\"> Powodzenia!<br><i>Zespół kursu Wstęp do programowania</i></div>"
   ]
  }
 ],
 "metadata": {
  "kernelspec": {
   "display_name": "Python 3",
   "language": "python",
   "name": "python3"
  },
  "language_info": {
   "codemirror_mode": {
    "name": "ipython",
    "version": 3
   },
   "file_extension": ".py",
   "mimetype": "text/x-python",
   "name": "python",
   "nbconvert_exporter": "python",
   "pygments_lexer": "ipython3",
   "version": "3.11.6"
  }
 },
 "nbformat": 4,
 "nbformat_minor": 5
}

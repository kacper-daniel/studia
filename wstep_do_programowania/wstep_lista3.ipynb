{
 "cells": [
  {
   "cell_type": "markdown",
   "id": "817cd8f2",
   "metadata": {},
   "source": [
    "# Wstęp do programowania\n",
    "\n",
    "## Lista 3\n",
    "\n",
    "Uzupełnij swoje dane poniżej, następnie przeczytaj treść zadań i umieść rozwiązania w odpowidenich komórkach pozostawionych w tym celu pod treścią. Pamiętaj dbać o specyfikację, czyli nazwy zmiennych oraz odpowiednie rozmieszczenie komórek. Jeśli uruchomisz wszystkie komórki, dokument powinien działać bez błędów."
   ]
  },
  {
   "cell_type": "markdown",
   "id": "76926f19",
   "metadata": {},
   "source": [
    "  * **Imię:** Kacper\n",
    "  * **Nazwisko:** Daniel\n",
    "  * **Numer indeksu:** ..."
   ]
  },
  {
   "cell_type": "markdown",
   "id": "f179d9a1",
   "metadata": {},
   "source": [
    "W rozwiązaniach zadań możesz korzystać z biblioteki `math`. Staraj się nie korzystać z materiału dotyczącego 4 wykładu, czyli funkcji oraz instrukcji sterujących. Spróbuj rozwiązać zadania wykorzystując struktury składane."
   ]
  },
  {
   "cell_type": "code",
   "execution_count": 43,
   "id": "2ceefa09",
   "metadata": {},
   "outputs": [],
   "source": [
    "import math"
   ]
  },
  {
   "cell_type": "markdown",
   "id": "7e8a62e4-59fc-42e0-959b-4bd9ebd14480",
   "metadata": {},
   "source": [
    "### Zadanie 1\n",
    "Zapoznaj się z dokumentacją funkcji `zip` oraz przykładem poniżej."
   ]
  },
  {
   "cell_type": "code",
   "execution_count": 44,
   "id": "3c4930a6-67ba-4a7c-9a9b-89e45231a4e2",
   "metadata": {},
   "outputs": [
    {
     "data": {
      "text/plain": [
       "[(1, 'a'), (2, 'b'), (3, 'c')]"
      ]
     },
     "execution_count": 44,
     "metadata": {},
     "output_type": "execute_result"
    }
   ],
   "source": [
    "lista = [1, 2, 3]\n",
    "inna = ['a', 'b', 'c']\n",
    "list(zip(lista, inna))"
   ]
  },
  {
   "cell_type": "markdown",
   "id": "f505ab50-5041-4281-9b4e-de3a30e48520",
   "metadata": {},
   "source": [
    "Opisz własnymi słowami, jak na podstawie listy `L`, powstanie lista\n",
    "```python\n",
    "list(zip(L[1:], L[:-1]))\n",
    "```\n",
    "\n",
    "Opis umieść w komórce poniżej. Możesz korzystać ze wzorów i fragmentów kodu."
   ]
  },
  {
   "cell_type": "markdown",
   "id": "310f6ab7-3e3c-425a-9920-4da4368825ae",
   "metadata": {},
   "source": [
    "``` L[1:]``` to wycinek listy L bez pierwszego elementu. Natomiast ``` L[:-1]``` to wycinek listy L bez ostatniego elementu\n",
    "Więc odpowiednio dla każdego elementu z pierwszego wycinka przyporządkowany zostanie kolejno każdy element drugiego wycinka"
   ]
  },
  {
   "cell_type": "markdown",
   "id": "3aa02a87-066e-4e27-a9d2-1405686dd1f8",
   "metadata": {},
   "source": [
    "### Zadanie 2\n",
    "\n",
    "Niech\n",
    "$$X_n = \\sum_{k=1}^n \\frac{(-1)^k}{k}.$$\n",
    "Zdefiniuj listę `L` wartości ciągu $X_n$ dla $n=1, \\ldots, 100$.\n",
    "\n",
    "Rozwiązanie umieść w komórce poniżej."
   ]
  },
  {
   "cell_type": "code",
   "execution_count": 1,
   "id": "f7c74720-fe8e-483d-a4c8-3703ea4c2bd8",
   "metadata": {},
   "outputs": [
    {
     "data": {
      "text/plain": [
       "[-1.0,\n",
       " -0.5,\n",
       " -0.8333333333333333,\n",
       " -0.5833333333333333,\n",
       " -0.7833333333333332,\n",
       " -0.6166666666666666,\n",
       " -0.7595238095238095,\n",
       " -0.6345238095238095,\n",
       " -0.7456349206349207,\n",
       " -0.6456349206349207,\n",
       " -0.7365440115440116,\n",
       " -0.6532106782106782,\n",
       " -0.7301337551337552,\n",
       " -0.6587051837051838,\n",
       " -0.7253718503718505,\n",
       " -0.6628718503718505,\n",
       " -0.7216953797836152,\n",
       " -0.6661398242280596,\n",
       " -0.718771403175428,\n",
       " -0.6687714031754279,\n",
       " -0.7163904507944756,\n",
       " -0.6709359053399302,\n",
       " -0.7144141662094954,\n",
       " -0.6727474995428288,\n",
       " -0.7127474995428288,\n",
       " -0.6742859610812904,\n",
       " -0.7113229981183273,\n",
       " -0.6756087124040416,\n",
       " -0.7100914710247312,\n",
       " -0.6767581376913979,\n",
       " -0.7090162022075269,\n",
       " -0.6777662022075269,\n",
       " -0.7080692325105572,\n",
       " -0.6786574678046748,\n",
       " -0.7072288963761034,\n",
       " -0.6794511185983256,\n",
       " -0.7064781456253526,\n",
       " -0.6801623561516684,\n",
       " -0.7058033817926941,\n",
       " -0.6808033817926941,\n",
       " -0.7051936256951331,\n",
       " -0.6813841018856093,\n",
       " -0.7046399158390977,\n",
       " -0.681912643111825,\n",
       " -0.7041348653340472,\n",
       " -0.6823957348992646,\n",
       " -0.7036723306439455,\n",
       " -0.6828389973106122,\n",
       " -0.7032471605759183,\n",
       " -0.6832471605759183,\n",
       " -0.7028550037131732,\n",
       " -0.683624234482404,\n",
       " -0.7024921590107058,\n",
       " -0.6839736404921873,\n",
       " -0.7021554586740055,\n",
       " -0.6842983158168626,\n",
       " -0.7018421754659854,\n",
       " -0.6846007961556405,\n",
       " -0.7015499486980133,\n",
       " -0.6848832820313466,\n",
       " -0.7012767246542975,\n",
       " -0.685147692396233,\n",
       " -0.7010207082692488,\n",
       " -0.6853957082692488,\n",
       " -0.7007803236538641,\n",
       " -0.685628808502349,\n",
       " -0.7005541816366774,\n",
       " -0.6858482992837363,\n",
       " -0.7003410529069246,\n",
       " -0.6860553386212104,\n",
       " -0.7001398456634639,\n",
       " -0.686250956774575,\n",
       " -0.6999495869115613,\n",
       " -0.6864360733980478,\n",
       " -0.6997694067313811,\n",
       " -0.686611511994539,\n",
       " -0.699598524981552,\n",
       " -0.6867780121610392,\n",
       " -0.6994362400091404,\n",
       " -0.6869362400091404,\n",
       " -0.6992819190214861,\n",
       " -0.6870867970702665,\n",
       " -0.6991349898413509,\n",
       " -0.687230227936589,\n",
       " -0.698994933818942,\n",
       " -0.6873670268421977,\n",
       " -0.698861279715761,\n",
       " -0.6874976433521246,\n",
       " -0.6987335984083044,\n",
       " -0.6876224872971933,\n",
       " -0.6986114982862043,\n",
       " -0.6877419330688129,\n",
       " -0.6984946212408559,\n",
       " -0.6878563233685155,\n",
       " -0.6983826391579893,\n",
       " -0.6879659724913226,\n",
       " -0.6982752508418381,\n",
       " -0.688071169209185,\n",
       " -0.698172179310195,\n",
       " -0.688172179310195]"
      ]
     },
     "execution_count": 1,
     "metadata": {},
     "output_type": "execute_result"
    }
   ],
   "source": [
    "L = [sum([((-1)**k)/k for k in range(1, x + 1)]) for x in range(1, 101)] \n",
    "L"
   ]
  },
  {
   "cell_type": "markdown",
   "id": "87e972a7",
   "metadata": {},
   "source": [
    "### Zadanie 3\n",
    "\n",
    "#### podpunkt a\n",
    "\n",
    "Czy istnieje trójkąt pitagorejski (prostokątny o całkowitych długościach boków) o obwodzie równym 1000?\n",
    "\n",
    "Podpowiedź 1: spróbuj wygenerować wszystkie trójkąty o bokach całkowitych i obwodzie równym 1000 za pomocą list składanych --- czy znajdziesz wśród nich jakiś trójkąt prostokątny?\n",
    "\n",
    "Podpowiedź 2: rozważ następujący zbiór szukanych trójkątów zapisanych jako trójkę długości boków:\n",
    "$$\\{(a, b, c): a \\in \\{1, \\ldots, 1000\\}, b \\in \\{1, \\ldots, 1000\\}, c \\in \\{1, \\ldots, 1000\\}, a+b+c = 1000 \\text{ i } a^2 + b^2 = c^2 \\},$$\n",
    "czy potrafisz:\n",
    "\n",
    "  - Wyeliminować $c$ z tego wzoru, korzystając z tego, że znasz obwód trójkąta?\n",
    "  - Dodać warunek, który pozwoli traktować $(a, b, c)$ oraz $(b, a, c)$ jako ten sam trójkąt? Postaraj się zapisać go odpowiednio dobierając wartości, do jakich może należeć $b$.\n",
    "  - Wytłumaczyć, dlaczego wartości $a$ i $b$ nie muszą osiągać dużych wartości (np.: wartości $997$).\n",
    "  \n",
    "Rozwiązanie umieść w komórce poniżej."
   ]
  },
  {
   "cell_type": "code",
   "execution_count": 4,
   "id": "e0cae480",
   "metadata": {},
   "outputs": [
    {
     "data": {
      "text/plain": [
       "[(200, 375, 425)]"
      ]
     },
     "execution_count": 4,
     "metadata": {},
     "output_type": "execute_result"
    }
   ],
   "source": [
    "trojkaty = [(a, b, 1000 - a - b) for a in range(1, 501)\n",
    "                                 for b in range(a, 501)\n",
    "                                 if a**2 + b**2 == (1000 - a -b)**2\n",
    "           ]\n",
    "trojkaty"
   ]
  },
  {
   "cell_type": "markdown",
   "id": "9938790c",
   "metadata": {},
   "source": [
    "#### podpunkt b\n",
    "\n",
    "Spośród trójkątów pitagorejskich o najdłuższym boku nieprzekraczającym $50$ wybierz jeden o najmniejszym i największym polu powierzchni. Ile razy większy od najmniejszego jest największy trójkąt?\n",
    "\n",
    "Podpowiedź: pamiętaj, że możesz sortować listy za pomocą metody `sort` lub funkcji `sorted`.\n",
    "\n",
    "Rozwiązanie umieść w komórce poniżej."
   ]
  },
  {
   "cell_type": "code",
   "execution_count": 47,
   "id": "d4d1c3f3",
   "metadata": {},
   "outputs": [
    {
     "name": "stdout",
     "output_type": "stream",
     "text": [
      "trojkat o najwiekszym polu: (30, 40, 50) \n",
      "trojkat o najmniejszym polu: (3, 4, 5) \n",
      "najwiekszy jest wiekszy od najmniejszego o: 100.0\n"
     ]
    }
   ],
   "source": [
    "triangles = [(a, b, c) for a in range(1, 51)\n",
    "                       for b in range(1, 51)\n",
    "                       for c in range(1, 51)\n",
    "                       if a**2 + b**2 == c**2 and b > a\n",
    "            ]\n",
    "pola = {x: math.sqrt(sum(x)*(sum(x) - x[0])*(sum(x) - x[1])*(sum(x) - x[2])) for x in triangles}\n",
    "najwiekszy = [[x[0],x[1]]for x in pola.items() if x[1] == max(pola.values())]\n",
    "najmniejszy = [[x[0],x[1]] for x in pola.items() if x[1] == min(pola.values())]\n",
    "print(f\"trojkat o najwiekszym polu: {najwiekszy[0][0]} \\ntrojkat o najmniejszym polu: {najmniejszy[0][0]} \\nnajwiekszy jest wiekszy od najmniejszego o: {najwiekszy[0][1]/najmniejszy[0][1]}\")"
   ]
  },
  {
   "cell_type": "markdown",
   "id": "8dc2854c-223a-44ff-ae6c-a8f31e8af5bd",
   "metadata": {},
   "source": [
    "### Zadanie 4\n",
    "\n",
    "Załóżmy, że w zmiennej `S` znajduje się zbiór niektórych województw, natomiast w zmiennej `D` słownik, który każdemu województwu przyporządkowuje zbiór miast, w których znajduje się siedziba władz wojewódzkich. Obie zmienne zdefiniowane są w komórce poniżej."
   ]
  },
  {
   "cell_type": "code",
   "execution_count": 6,
   "id": "93258632-8095-41e5-ae56-9ad4d58c9aff",
   "metadata": {},
   "outputs": [],
   "source": [
    "S = {'dolnośląskie', 'lubuskie', 'wielkopolskie'}\n",
    "D = {\n",
    "    'dolnośląskie': {'Wrocław'},\n",
    "    'kujawsko-pomorskie': {'Bydgoszcz', 'Toruń'},\n",
    "    'lubelskie': {'Lublin'},\n",
    "    'lubuskie': {'Gorzów Wielkopolski', 'Zielona Góra'},\n",
    "    'łódzkie': {'Łódź'},\n",
    "    'małopolskie': {'Kraków'},\n",
    "    'mazowieckie': {'Warszawa'},\n",
    "    'opolskie': {'Opole'},\n",
    "    'podkarpackie': {'Rzeszów'},\n",
    "    'podlaskie': {'Białystok'},\n",
    "    'pomorskie': {'Gdańsk'},\n",
    "    'śląskie': {'Katowice'},\n",
    "    'świętokrzyskie': {'Kielce'},\n",
    "    'warmińsko-mazurskie': {'Olsztyn'},\n",
    "    'wielkopolskie': {'Poznań'},\n",
    "    'zachodniopomorskie': {'Szczecin'}\n",
    "}"
   ]
  },
  {
   "cell_type": "markdown",
   "id": "9e9220ce-9d75-41f4-aa44-b41ae1b971bc",
   "metadata": {},
   "source": [
    "#### podpunkt a\n",
    "\n",
    "Stwórz zbiór miast, w których znajdują się siedziby władz województw ze słownika `S`. Rozwiązanie umieść w komórce poniżej."
   ]
  },
  {
   "cell_type": "code",
   "execution_count": 7,
   "id": "cafa7f95-93cb-4273-a810-98bb0efd70b6",
   "metadata": {},
   "outputs": [
    {
     "data": {
      "text/plain": [
       "{'Gorzów Wielkopolski', 'Poznań', 'Wrocław', 'Zielona Góra'}"
      ]
     },
     "execution_count": 7,
     "metadata": {},
     "output_type": "execute_result"
    }
   ],
   "source": [
    "helper = [x[1] for x in D.items() if x[0] in S]\n",
    "Zbior_m = set()\n",
    "for x in helper:\n",
    "    Zbior_m.update(x)\n",
    "Zbior_m"
   ]
  },
  {
   "cell_type": "markdown",
   "id": "c429d730-8799-41c2-b1dd-049578ea016e",
   "metadata": {},
   "source": [
    "#### podpunkt b\n",
    "\n",
    "Zdefiniujmy zbiór miast."
   ]
  },
  {
   "cell_type": "code",
   "execution_count": 8,
   "id": "2f19ca65-af76-429e-9b2b-f484a3cfaff9",
   "metadata": {},
   "outputs": [],
   "source": [
    "M = {'Wrocław', 'Opole', 'Zielona Góra', 'Gorzów Wielkopolski'}"
   ]
  },
  {
   "cell_type": "markdown",
   "id": "dc60b47b-d5ce-4053-ba02-4ff35ab4f7b9",
   "metadata": {},
   "source": [
    "Wykorzystując słownik `D` znajdź zbiór województw, których siedziby władz znajdują się w zbiorze `M`. Rozwiązanie umieść w komórce poniżej."
   ]
  },
  {
   "cell_type": "code",
   "execution_count": 10,
   "id": "4e0e1ee1-d4f7-4410-a814-b61992ece194",
   "metadata": {
    "scrolled": true
   },
   "outputs": [
    {
     "data": {
      "text/plain": [
       "{'dolnośląskie', 'lubuskie', 'opolskie'}"
      ]
     },
     "execution_count": 10,
     "metadata": {},
     "output_type": "execute_result"
    }
   ],
   "source": [
    "Zbior_w = {x for x in D if D[x] & M}\n",
    "Zbior_w"
   ]
  },
  {
   "cell_type": "markdown",
   "id": "e8f7447b-7c95-41d3-b87c-a1cf3c0ce71d",
   "metadata": {},
   "source": [
    "### Zadanie 5\n",
    "\n",
    "Stwórz słownik, w którym kluczami są kąty nachylenia do dodatniej półosi OX w stopniach, natomiast wartościami współrzędne 101 punktów równomiernie rozmieszczonych na okręgu jednostkowym. Przynajmniej jeden punkt powinien leżeć na dodatniej półosi OX. Rozwiązanie umieść w komórce poniżej."
   ]
  },
  {
   "cell_type": "code",
   "execution_count": 52,
   "id": "806c0f94-da09-42c1-9efb-18489efe084f",
   "metadata": {},
   "outputs": [],
   "source": [
    "punkty = {i * (360/101): (math.cos(math.radians(i * (360/101))), math.sin(math.radians(i * (360/101)))) for i in range(101)}"
   ]
  },
  {
   "cell_type": "markdown",
   "id": "bddd6220-13ea-43fb-a42c-fdf89fc8168a",
   "metadata": {},
   "source": [
    "Sprawdź niektóre punkty, aby upewnić się, że dobrze rozwiązałeś zadanie."
   ]
  },
  {
   "cell_type": "code",
   "execution_count": 53,
   "id": "629789c8-7e80-453b-9f88-7e9b73e93105",
   "metadata": {},
   "outputs": [
    {
     "data": {
      "text/plain": [
       "True"
      ]
     },
     "execution_count": 53,
     "metadata": {},
     "output_type": "execute_result"
    }
   ],
   "source": [
    "punkty[0] == (0, 1)  # powinniśmy zobaczyć False\n",
    "punkty[0] == (1, 0)  # dopiero tutaj powinniśmy zobaczyć True"
   ]
  },
  {
   "cell_type": "markdown",
   "id": "3d7a18a0",
   "metadata": {},
   "source": [
    "\n",
    "<div style=\"text-align: right\"> Powodzenia!<br><i>Zespół kursu Wstęp do programowania</i></div>"
   ]
  }
 ],
 "metadata": {
  "kernelspec": {
   "display_name": "Python 3 (ipykernel)",
   "language": "python",
   "name": "python3"
  },
  "language_info": {
   "codemirror_mode": {
    "name": "ipython",
    "version": 3
   },
   "file_extension": ".py",
   "mimetype": "text/x-python",
   "name": "python",
   "nbconvert_exporter": "python",
   "pygments_lexer": "ipython3",
   "version": "3.11.6"
  }
 },
 "nbformat": 4,
 "nbformat_minor": 5
}

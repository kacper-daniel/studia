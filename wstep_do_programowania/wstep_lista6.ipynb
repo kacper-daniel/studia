{
 "cells": [
  {
   "cell_type": "markdown",
   "id": "817cd8f2",
   "metadata": {},
   "source": [
    "# Wstęp do programowania\n",
    "## Lista 6\n",
    "\n",
    "Uzupełnij swoje dane poniżej, następnie przeczytaj treść zadań i umieść rozwiązania w odpowidenich komórkach pozostawionych w tym celu pod treścią. Pamiętaj dbać o specyfikację, czyli nazwy zmiennych oraz odpowiednie rozmieszczenie komórek. Jeśli uruchomisz wszystkie komórki, dokument powinien działać bez błędów."
   ]
  },
  {
   "cell_type": "markdown",
   "id": "76926f19",
   "metadata": {},
   "source": [
    "  * **Imię:** ...\n",
    "  * **Nazwisko:** ...\n",
    "  * **Numer indeksu:** ..."
   ]
  },
  {
   "cell_type": "markdown",
   "id": "f179d9a1",
   "metadata": {},
   "source": [
    "W rozwiązaniach zadań możesz korzystać z wielu bibliotek. Do obliczeń `math`, `numpy` oraz `sympy`. Do wizualizacji `matplotlib.pyplot` oraz `ipywidgets`. Testy możesz wykonywać za pomocą modułów `unittest` oraz `doctest`."
   ]
  },
  {
   "cell_type": "code",
   "execution_count": 1,
   "id": "2ceefa09",
   "metadata": {},
   "outputs": [],
   "source": [
    "import math\n",
    "import unittest\n",
    "import doctest\n",
    "import numpy as np\n",
    "import sympy as sp\n",
    "import matplotlib.pyplot as plt\n",
    "from ipywidgets import interact\n",
    "from hypothesis import given, strategies as st"
   ]
  },
  {
   "cell_type": "markdown",
   "id": "1a39d3f3",
   "metadata": {},
   "source": [
    "### Zadanie 1\n",
    "\n",
    "Przypomnij sobie zadanie o spirali archimedejskiej (zadanie 2 z listy 5).\n",
    "\n",
    "Spróbuj stworzyć interaktywny interfejs do wizualizacji tego, jak wybrane parametry wpływają na kształt spirali.\n",
    "\n",
    "Rozwiązanie umieść w komórce poniżej."
   ]
  },
  {
   "cell_type": "code",
   "execution_count": null,
   "id": "4076f649",
   "metadata": {},
   "outputs": [],
   "source": []
  },
  {
   "cell_type": "markdown",
   "id": "c9490bc8",
   "metadata": {},
   "source": [
    "### Zadanie 2\n",
    "\n",
    "Zaprojektuj testy jednostkowe sprawdzające, że funkcja `max` z Pythona działa dobrze dla list liczb całkowitych i zmiennoprzecinkowych bez `NaN`. Napisz przynajmniej 3 testy za pomocą modułu `unittest`. Kod testów umieść w komórce poniżej."
   ]
  },
  {
   "cell_type": "code",
   "execution_count": null,
   "id": "eb82466d-97e1-4703-b86a-9c6d56f88988",
   "metadata": {},
   "outputs": [],
   "source": []
  },
  {
   "cell_type": "markdown",
   "id": "0793e0ae-cd83-44d6-bc01-72da6dbcd0ce",
   "metadata": {},
   "source": [
    "Uruchomienie testów umieść w komórce poniżej."
   ]
  },
  {
   "cell_type": "code",
   "execution_count": null,
   "id": "4e8cd72f-46e7-4508-92d2-c0ddd03fef5e",
   "metadata": {},
   "outputs": [],
   "source": []
  },
  {
   "attachments": {},
   "cell_type": "markdown",
   "id": "3c1b52a8",
   "metadata": {},
   "source": [
    "### Zadanie 3\n",
    "\n",
    "Przypomnij sobie zadanie o funkcjach do liczenia liczby dni pomiędzy datami (zadanie 1 lista 4). Rozbuduj funkcje `ile_dni` oraz `dzień_juliański` tak, aby zgłaszały odpowiednie wyjątki, gdy użytkownik ich źle użyje.\n",
    "\n",
    "Kod umieść w komórce poniżej."
   ]
  },
  {
   "cell_type": "code",
   "execution_count": null,
   "id": "f4281b8c",
   "metadata": {},
   "outputs": [],
   "source": []
  },
  {
   "cell_type": "markdown",
   "id": "73e32195",
   "metadata": {},
   "source": [
    "### Zadanie 4\n",
    "\n",
    "Przypomnij sobie funkcję do wyliczania objętości hiperkuli (zadanie 5 lista 4). Dodaj do niej dokumentację opisującą użycie funkcji oraz przykładowe testy, które sprawdzisz modułem `doctest`.\n",
    "\n",
    "Rozwiązanie umieść w komórce poniżej."
   ]
  },
  {
   "cell_type": "code",
   "execution_count": null,
   "id": "9f2e7d0a",
   "metadata": {},
   "outputs": [],
   "source": []
  },
  {
   "cell_type": "markdown",
   "id": "4312e388-11ae-42ec-90d7-d454f4a74427",
   "metadata": {},
   "source": [
    "Uruchom opracowane testy, aby sprawdzić, czy dobrze działają."
   ]
  },
  {
   "cell_type": "code",
   "execution_count": null,
   "id": "f6866964-164c-4f25-8f52-cf41cdf0ef33",
   "metadata": {},
   "outputs": [],
   "source": []
  },
  {
   "cell_type": "markdown",
   "id": "7efa91a8",
   "metadata": {},
   "source": [
    "### Zadanie 5\n",
    "\n",
    "Wybierz dowolne zadanie z kursu Analiza matematyczna, spróbuj je rozwiązać za pomocą biblioteki SymPy.\n",
    "\n",
    "Treść zadania umieść w komórce tekstowej poniżej, zadbaj o formatowanie tekstu oraz wzorów."
   ]
  },
  {
   "cell_type": "markdown",
   "id": "677754f5-b1b4-4664-836a-f7a22e38cd3a",
   "metadata": {},
   "source": []
  },
  {
   "cell_type": "markdown",
   "id": "57e035bd",
   "metadata": {},
   "source": [
    "Rozwiązanie wybranego zadania umieść w komórce poniżej."
   ]
  },
  {
   "cell_type": "code",
   "execution_count": null,
   "id": "767b23c8",
   "metadata": {},
   "outputs": [],
   "source": []
  },
  {
   "cell_type": "markdown",
   "id": "3d7a18a0",
   "metadata": {},
   "source": [
    "<div style=\"text-align: right\"> Powodzenia!<br><i>Zespół kursu Wstęp do programowania</i></div>"
   ]
  }
 ],
 "metadata": {
  "kernelspec": {
   "display_name": "Python 3 (ipykernel)",
   "language": "python",
   "name": "python3"
  },
  "language_info": {
   "codemirror_mode": {
    "name": "ipython",
    "version": 3
   },
   "file_extension": ".py",
   "mimetype": "text/x-python",
   "name": "python",
   "nbconvert_exporter": "python",
   "pygments_lexer": "ipython3",
   "version": "3.11.5"
  }
 },
 "nbformat": 4,
 "nbformat_minor": 5
}

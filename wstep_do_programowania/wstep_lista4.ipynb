{
 "cells": [
  {
   "cell_type": "markdown",
   "id": "817cd8f2",
   "metadata": {},
   "source": [
    "# Wstęp do programowania\n",
    "## Lista 4\n",
    "\n",
    "Uzupełnij swoje dane poniżej, następnie przeczytaj treść zadań i umieść rozwiązania w odpowidenich komórkach pozostawionych w tym celu pod treścią. Pamiętaj dbać o specyfikację, czyli nazwy zmiennych oraz odpowiednie rozmieszczenie komórek. Jeśli uruchomisz wszystkie komórki, dokument powinien działać bez błędów."
   ]
  },
  {
   "cell_type": "markdown",
   "id": "76926f19",
   "metadata": {},
   "source": [
    "  * **Imię:** Kacper\n",
    "  * **Nazwisko:** Daniel\n",
    "  * **Numer indeksu:** "
   ]
  },
  {
   "cell_type": "markdown",
   "id": "f179d9a1",
   "metadata": {},
   "source": [
    "W rozwiązaniach zadań możesz korzystać z biblioteki `math`."
   ]
  },
  {
   "cell_type": "code",
   "execution_count": 1,
   "id": "2ceefa09",
   "metadata": {},
   "outputs": [],
   "source": [
    "import math"
   ]
  },
  {
   "cell_type": "markdown",
   "id": "e7d3ab53",
   "metadata": {},
   "source": [
    "### Zadanie 1\n",
    "\n",
    "Przypomnij sobie zadanie o dniu juliańskim z pierwszej listy.\n",
    "\n",
    "#### podpunkt a\n",
    "\n",
    "Zaimplementuj funkcję `dzień_juliański(D, M, R)` zwracającą dzień juliański odpowiadający podanej dacie. Rozwiązanie umieść w komórce poniżej."
   ]
  },
  {
   "cell_type": "code",
   "execution_count": 2,
   "id": "f534f34d",
   "metadata": {},
   "outputs": [],
   "source": [
    "def dzien_julianski(D, M, R):\n",
    "    return D+(153*M+2)//5+365*R+R//4-R//100+R//400-32045"
   ]
  },
  {
   "cell_type": "markdown",
   "id": "551e1ff2",
   "metadata": {},
   "source": [
    "#### podpunkt b\n",
    "\n",
    "Zaimplementuj funkcję `ile_dni(data1, data2)` obliczającą, ile dni upłynęło pomiędzy dwiema datami, gdzie daty podane są jako krotki `(D, M, R)`. Wykorzystaj funkcję zaimplementowaną w poprzednim podpunkcie. Przykładowe wywołanie\n",
    "```python\n",
    "print(ile_dni((4, 11, 2021), (6, 12, 2021)))\n",
    "```\n",
    "powinno dać w wyniku liczbę 32.\n",
    "\n",
    "Podpowiedź: użyj funkcji napisanej w podpunkcie a.\n",
    "\n",
    "Rozwiązanie umieść w komórce poniżej."
   ]
  },
  {
   "cell_type": "code",
   "execution_count": 22,
   "id": "e3c3dc93",
   "metadata": {},
   "outputs": [
    {
     "name": "stdout",
     "output_type": "stream",
     "text": [
      "333\n"
     ]
    }
   ],
   "source": [
    "def ile_dni(data1, data2):\n",
    "    return abs(dzien_julianski(data1[0], data1[1], data1[2]) - dzien_julianski(data2[0], data2[1], data2[2]))\n",
    "\n",
    "print(ile_dni([4,11,2021], [6,12,2020]))"
   ]
  },
  {
   "cell_type": "markdown",
   "id": "50cbdbe6",
   "metadata": {},
   "source": [
    "### Zadanie 2\n",
    "\n",
    "#### Podpunkt a\n",
    "\n",
    "Napisz funkcję `fizz_buzz(x)`, która dla liczby naturalnej `x` zwraca napis:\n",
    "\n",
    "  - \"Fizz\" dla liczb podzielnych przez 3,\n",
    "  - \"Buzz\" dla liczb podzielnych przez 5,\n",
    "  - \"Fizz Buzz\" dla liczb jednocześnie podzielnych przez 3 i 5,\n",
    "  - napis oznaczający liczbę w pozostałych przypadkach, np.: \"4\" dla `x=4`.\n",
    "\n",
    "Podpowiedź: użyj wyrażenia warunkowego, operatora reszty z dzielenia oraz operatora `or`.\n",
    "\n",
    "Rozwiązanie umieść w komórce poniżej."
   ]
  },
  {
   "cell_type": "code",
   "execution_count": 4,
   "id": "2685a83c",
   "metadata": {},
   "outputs": [
    {
     "name": "stdout",
     "output_type": "stream",
     "text": [
      "Fizz\n",
      "Buzz\n",
      "Fizz Buzz\n",
      "4\n"
     ]
    }
   ],
   "source": [
    "def fizz_buzz(x):\n",
    "    if type(x) == int and x >= 0:\n",
    "        if x % 3 == 0 and x % 5 == 0:\n",
    "            print(\"Fizz Buzz\")\n",
    "        elif x % 3 == 0:\n",
    "            print(\"Fizz\")\n",
    "        elif x % 5 == 0:\n",
    "            print(\"Buzz\")\n",
    "        else:\n",
    "            print(str(x))\n",
    "    else:\n",
    "        print(\"To nie jest liczba naturalna\")\n",
    "\n",
    "fizz_buzz(3)\n",
    "fizz_buzz(5)\n",
    "fizz_buzz(15)\n",
    "fizz_buzz(4)"
   ]
  },
  {
   "cell_type": "markdown",
   "id": "94dcb4c2",
   "metadata": {},
   "source": [
    "#### Podpunkt b\n",
    "\n",
    "Stwórz listę napisów zgodnych z opisem powyżej dla liczb naturalnych dodatnich od $1$ do $100$.\n",
    "\n",
    "Podpowiedź: skorzystaj z list składanych.\n",
    "\n",
    "Rozwiązanie umieść w komórce poniżej."
   ]
  },
  {
   "cell_type": "code",
   "execution_count": 15,
   "id": "69144a42",
   "metadata": {},
   "outputs": [
    {
     "data": {
      "text/plain": [
       "['1',\n",
       " '2',\n",
       " 'Fizz',\n",
       " '4',\n",
       " 'Buzz',\n",
       " 'Fizz',\n",
       " '7',\n",
       " '8',\n",
       " 'Fizz',\n",
       " 'Buzz',\n",
       " '11',\n",
       " 'Fizz',\n",
       " '13',\n",
       " '14',\n",
       " 'Fizz Buzz',\n",
       " '16',\n",
       " '17',\n",
       " 'Fizz',\n",
       " '19',\n",
       " 'Buzz',\n",
       " 'Fizz',\n",
       " '22',\n",
       " '23',\n",
       " 'Fizz',\n",
       " 'Buzz',\n",
       " '26',\n",
       " 'Fizz',\n",
       " '28',\n",
       " '29',\n",
       " 'Fizz Buzz',\n",
       " '31',\n",
       " '32',\n",
       " 'Fizz',\n",
       " '34',\n",
       " 'Buzz',\n",
       " 'Fizz',\n",
       " '37',\n",
       " '38',\n",
       " 'Fizz',\n",
       " 'Buzz',\n",
       " '41',\n",
       " 'Fizz',\n",
       " '43',\n",
       " '44',\n",
       " 'Fizz Buzz',\n",
       " '46',\n",
       " '47',\n",
       " 'Fizz',\n",
       " '49',\n",
       " 'Buzz',\n",
       " 'Fizz',\n",
       " '52',\n",
       " '53',\n",
       " 'Fizz',\n",
       " 'Buzz',\n",
       " '56',\n",
       " 'Fizz',\n",
       " '58',\n",
       " '59',\n",
       " 'Fizz Buzz',\n",
       " '61',\n",
       " '62',\n",
       " 'Fizz',\n",
       " '64',\n",
       " 'Buzz',\n",
       " 'Fizz',\n",
       " '67',\n",
       " '68',\n",
       " 'Fizz',\n",
       " 'Buzz',\n",
       " '71',\n",
       " 'Fizz',\n",
       " '73',\n",
       " '74',\n",
       " 'Fizz Buzz',\n",
       " '76',\n",
       " '77',\n",
       " 'Fizz',\n",
       " '79',\n",
       " 'Buzz',\n",
       " 'Fizz',\n",
       " '82',\n",
       " '83',\n",
       " 'Fizz',\n",
       " 'Buzz',\n",
       " '86',\n",
       " 'Fizz',\n",
       " '88',\n",
       " '89',\n",
       " 'Fizz Buzz',\n",
       " '91',\n",
       " '92',\n",
       " 'Fizz',\n",
       " '94',\n",
       " 'Buzz',\n",
       " 'Fizz',\n",
       " '97',\n",
       " '98',\n",
       " 'Fizz',\n",
       " 'Buzz']"
      ]
     },
     "execution_count": 15,
     "metadata": {},
     "output_type": "execute_result"
    }
   ],
   "source": [
    "fizz_buzz_lista = [\"Fizz Buzz\" if x % 3 == 0 and x % 5 ==0 else \"Fizz\" if x % 3 == 0 else \"Buzz\" if x % 5 == 0 else str(x) for x in range(1, 101)]\n",
    "fizz_buzz_lista"
   ]
  },
  {
   "cell_type": "markdown",
   "id": "87e972a7",
   "metadata": {},
   "source": [
    "### Zadanie 3\n",
    "\n",
    "Naszym celem jest napisanie programu, który sortuje punkty na płaszczyźnie względem ich odległości od prostej $y=x$. Chcemy, aby najpierw w liście znalazły się punkty najbliżej prostej, na końcu punkty najdalej od prostej. Jeśli lubisz geometrię i chcesz sam zmierzyć się z tym problemem, możesz przejść do podpunktu a zadania. Jeśli nie chcecsz lub nie udało się go znaleźć, możesz kontynuować opis.\n",
    "\n",
    "Ponieważ prosta $y=x$ jest nachylona do osi OX pod kątem $45^\\circ$, licząc odległość punktu $A = (a, b)$ od prostej, musimy wyznaczyć prostą prostopadłą do $y=x$ przechodzącą przez punkt $A$. Jej równanie będzie postaci $y=-x+c$ dla pewnego $c$. Podstawiając współrzędne $(a, b)$ punktu $A$ do równania $y=-x+c$ otrzymujemy $b = -a+c$, czyli $c=a+b$. Oznacza to, że prosta prostopadła do $y=x$ przechodząca przez punkt $A=(a, b)$ ma równanie $y=-x+(a+b)$. Aby znaleźć punkt przecięcia prostych, rozwiązujemy układ równań\n",
    "$$\\begin{cases} y = x,\\\\ y=-x+(a+b).\\end{cases}$$\n",
    "Rozwiązaniem układu równań jest punkt $P=(x_P, y_P) = \\left(\\frac{a+b}{2},\\frac{a+b}{2}\\right)$. Odległość pomiędzy punktami jest równa\n",
    "$$ \\begin{split}d(A, P) &= \\sqrt{(a-x_P)^2 + (b-y_P)^2} = \\sqrt{\\left(a-\\frac{a+b}{2}\\right)^2 + \\left(b-\\frac{a+b}{2}\\right)^2} \\\\&= \\sqrt{\\left(\\frac{a-b}{2}\\right)^2 + \\left(\\frac{b-a}{2}\\right)^2}= \\sqrt{2\\cdot \\left(\\frac{a-b}{2}\\right)^2 } = \\frac{|a-b|}{\\sqrt{2}}.\\end{split}$$\n",
    "Ponieważ sortujemy, stała nie gra roli, zatem punkt $A=(a, b)$ położony najdalej od prostej $y=x$ to ten, dla którego największa jest wartość $|a-b|$. Podobnie, najbliżej prostej $y=x$ leży ten punkt, dla którego moduł różnicy współrzędnych jest najmniejszy. W szczególności, jeśli $|a-b|=0$, punkt leży na prostej.\n",
    "\n",
    "#### podpunkt a\n",
    "\n",
    "Przypomnij sobie materiał o funkcji `sorted` i metodzie `sort` z wykładu oraz o krotkach. Ponieważ sortowanie domyślnie odbywa się w porządku rosnącym, a krotki porządkowane są leksykograficznie, czyli ich sortowanie odbywa się najpierw po pierwszej współrzędnej, jednym z pomysłów na rozwiązanie postawionego problemu jest dla listy punktów\n",
    "$$[A_1, A_2, A_3, \\ldots, A_n],$$\n",
    "stworzenie listy\n",
    "$$[(d_1, A_1), (d_2, A_2), (d_3, A_3), \\ldots, (d_n, A_n)],$$\n",
    "gdzie $d_i$ jest proporcjonalne do odległości punktu $A_i$ od prostej $y=x$. Następnie taką listę będziemy mogli posortować. Pierwszy jej element będzie postaci $(d_k, A_k)$, gdzie $d_k$ będzie najmniejszą odległością a $A_k$ będzie punktem najbliżej prostej $y=x$.\n",
    "\n",
    "Zaimplementuj ten pomysł wstawiając fragmenty kodu w miejsca wielokropków. Postaraj się nie modyfikować innych fragmentów funkcji."
   ]
  },
  {
   "cell_type": "code",
   "execution_count": 6,
   "id": "e0cae480",
   "metadata": {},
   "outputs": [],
   "source": [
    "def sortuj_punkty(punkty):\n",
    "    # przygotuj listę punktów z odległością\n",
    "    punkty_dist = [(abs(punkt[0] - punkt[1])/math.sqrt(2), punkt) for punkt in punkty]\n",
    "    # posortuj punkty w miejscu, bez tworzenia dodatkowej listy\n",
    "    punkty_dist.sort()\n",
    "    # zwróć same punkty bez odległości\n",
    "    return [x[1] for x in punkty_dist]"
   ]
  },
  {
   "cell_type": "markdown",
   "id": "6947f0a2-f27c-42b8-851d-85ab6b633577",
   "metadata": {},
   "source": [
    "#### podpunkt b\n",
    "Wymyśl 3 przykłady użycia pozwalające sprawdzić, że dobrze zaimplementowałeś sortowanie."
   ]
  },
  {
   "cell_type": "code",
   "execution_count": 7,
   "id": "3b7f9e0c-36eb-4e15-a589-c2c44cc7eb4c",
   "metadata": {},
   "outputs": [
    {
     "name": "stdout",
     "output_type": "stream",
     "text": [
      "[(0, 1), (5, 10), (10, 200), (10, 300)]\n"
     ]
    }
   ],
   "source": [
    "punkty1 = [(0, 1), (10, 200), (5, 10), (10, 300)]\n",
    "wynik1 = sortuj_punkty(punkty1)\n",
    "print(wynik1)"
   ]
  },
  {
   "cell_type": "code",
   "execution_count": 8,
   "id": "302e52d1-06ec-45be-9d07-7d12fa83428d",
   "metadata": {},
   "outputs": [
    {
     "name": "stdout",
     "output_type": "stream",
     "text": [
      "[(-1, -1), (-2, -3), (-1, -15), (-5, -25)]\n"
     ]
    }
   ],
   "source": [
    "punkty2 = [(-5, -25), (-1,-1), (-1, -15), (-2, -3)]\n",
    "wynik2 = sortuj_punkty(punkty2)\n",
    "print(wynik2)"
   ]
  },
  {
   "cell_type": "code",
   "execution_count": 9,
   "id": "278e5280-03d2-4d6f-ae36-9c9b5dd2874e",
   "metadata": {},
   "outputs": [
    {
     "name": "stdout",
     "output_type": "stream",
     "text": [
      "[(1, 1), (-2, -3), (1, 2), (3, 7)]\n"
     ]
    }
   ],
   "source": [
    "punkty3 = [(1, 2), (-2, -3), (3, 7), (1, 1)]\n",
    "wynik3 = sortuj_punkty(punkty3)\n",
    "print(wynik3)"
   ]
  },
  {
   "cell_type": "markdown",
   "id": "9938790c",
   "metadata": {},
   "source": [
    "### Zadanie 4\n",
    "\n",
    "Baza danych w pewnej fikcyjnej szkole przechowywana jest za pomocą struktur danych Pythona. Oceny całej klasy reprezentowane są jako słownik, którego kluczami są uczniowie (napisy z imieniem i nazwiskiem) a wartościami słowniki reprezentujące oceny ucznia. Każdy słownik przedstawiający oceny ucznia ma nazwę przedmiotu jako klucz i listę ocen jako wartość. Oceny zapisane są jako liczby. Fragment przykładowych danych, to\n",
    "```python\n",
    "klasa1h = {\n",
    "    'Hipolit Hipopotamowicz': {\n",
    "        'język polski': [3, 3, 4],\n",
    "        'matematyka': [1, 2, 1, 3, 1],\n",
    "        ...\n",
    "    }, \n",
    "    ...\n",
    "}\n",
    "```\n",
    "#### podpunkt a\n",
    "W szkole uznaje się, że uczeń jest zagrożony z przedmiotu, jeśli jego średnia ocen z danego przedmiotu jest poniżej 2. Napisz funkcję `zagrożenia(klasa)`, która dla klasy reprezentowanej jak poniżej zwróci informację o zagrożeniach jako słownik, którego kluczami będą uczniowie (napisy z imieniem i nazwiskiem) a wartością listy przedmiotów, z których uczeń ma zagrożenie. Przykład użycia\n",
    "```python\n",
    "print(zagrożenia(klasa1h))\n",
    "```\n",
    "da w wyniku między innymi\n",
    "```python\n",
    "{\n",
    "    'Hipolit Hipopotamowicz': ['matematyka'],\n",
    "    ...\n",
    "}\n",
    "```\n",
    "Rozwiązanie umieść w komórce poniżej."
   ]
  },
  {
   "cell_type": "code",
   "execution_count": 16,
   "id": "d4d1c3f3",
   "metadata": {},
   "outputs": [
    {
     "name": "stdout",
     "output_type": "stream",
     "text": [
      "{'Hipolit Hipopotamowicz': ['matematyka'], 'Jan Kowalski': ['fizyka']}\n"
     ]
    }
   ],
   "source": [
    "klasa1h = {\n",
    "    'Hipolit Hipopotamowicz': {\n",
    "        'język polski': [1, 5, 3],\n",
    "        'matematyka': [1, 2, 1, 3, 1]\n",
    "    },\n",
    "    'Jan Kowalski': {\n",
    "        'język polski': [5, 5, 1],\n",
    "        'fizyka': [1, 1, 1, 2]\n",
    "    },\n",
    "    'Jan Nowak': {\n",
    "        'język polski': [3, 3, 4],\n",
    "        'wf': [5, 5, 5]\n",
    "    }\n",
    "}\n",
    "\n",
    "def avg(list):\n",
    "    return sum(list)/len(list)\n",
    "\n",
    "def zagrozenia(klasa):\n",
    "    output = {}\n",
    "    for uczen in klasa.keys():\n",
    "        helper = []\n",
    "        for przedmioty, oceny in klasa[uczen].items():\n",
    "            if avg(oceny) < 2:\n",
    "                helper.append(przedmioty)\n",
    "        if len(helper) > 0:\n",
    "            output[uczen] = helper\n",
    "    return output\n",
    "        \n",
    "print(zagrozenia(klasa1h))"
   ]
  },
  {
   "cell_type": "markdown",
   "id": "4ff63f58-b95b-4118-b0c0-496f7dd81044",
   "metadata": {},
   "source": [
    "#### podpunkt b\n",
    "Napisz funkcję `procent_zagrożonych(klasa)`, która zwróci procent osób mających choć jedno zagrożenie jako liczbę zmiennoprzecinkową z przedziału od $0$ do $100$. Rozwiązanie umieść w komórce poniżej."
   ]
  },
  {
   "cell_type": "code",
   "execution_count": 11,
   "id": "11270a51-0a3a-417d-a5a5-4768560fd72f",
   "metadata": {},
   "outputs": [
    {
     "name": "stdout",
     "output_type": "stream",
     "text": [
      "66.67\n"
     ]
    }
   ],
   "source": [
    "def procent_zagrozonych(klasa):\n",
    "    ile_zagrozonych = len(zagrozenia(klasa).keys())\n",
    "    return ile_zagrozonych/len(klasa.keys()) * 100\n",
    "\n",
    "print(round(procent_zagrozonych(klasa1h), 2))"
   ]
  },
  {
   "cell_type": "markdown",
   "id": "d28424b3-4e38-4ed0-b081-e540e9950624",
   "metadata": {},
   "source": [
    "#### podpunkt c\n",
    "Napisz funkcję `osły_dardanelskie(klasa)`, która zwróci listę uczniów mających ex æquo najwięcej zagrożeń. Rozwiązanie umieść w komórce poniżej."
   ]
  },
  {
   "cell_type": "code",
   "execution_count": 17,
   "id": "7fd6724a-e5f8-423d-9e3e-b8130c3ddc5f",
   "metadata": {},
   "outputs": [
    {
     "data": {
      "text/plain": [
       "['Hipolit Hipopotamowicz', 'Jan Kowalski']"
      ]
     },
     "execution_count": 17,
     "metadata": {},
     "output_type": "execute_result"
    }
   ],
   "source": [
    "def osly_dardanelskie(klasa):\n",
    "    helper = zagrozenia(klasa)\n",
    "    lengths = []\n",
    "    for x in helper.keys():\n",
    "        lengths.append(len(helper[x]))\n",
    "    len_max = max(lengths)\n",
    "    output = []\n",
    "    for x in helper.keys():\n",
    "        if len(helper[x]) == len_max:\n",
    "            output.append(x)\n",
    "    return output\n",
    "\n",
    "osly_dardanelskie(klasa1h)"
   ]
  },
  {
   "cell_type": "markdown",
   "id": "73e32195",
   "metadata": {},
   "source": [
    "### Zadanie 5\n",
    "\n",
    "$n$-wymiarowa hiperkula o promieniu $r > 0$ i środku $S = (0, \\ldots, 0) \\in \\mathbb{R}^n$, to podzbiór $K_n(r)$ przestrzeni $\\mathbb{R}^n$ zdefiniowany następująco\n",
    "$$K_n(r) = \\left\\{x = (x_1, \\ldots, x_n) \\in \\mathbb{R}^n: \\sum_{i=1}^n x_i^2 < r^2 \\right\\}.$$\n",
    "Można pokazać, że objętość hiperkuli wynosi\n",
    "$$V_n(r) = \\frac{\\pi^{\\frac{n}{2}}}{\\Gamma\\left(\\frac{n}{2}+1\\right)}R^n,$$\n",
    "gdzie $\\Gamma$ to funkcja gamma Eulera zdefiniowana jako\n",
    "$$\\Gamma(x) = \\int_0^\\infty t^{x-1} e^{-t} \\,\\mathrm{d}t.$$\n",
    "\n",
    "#### podpunkt a\n",
    "\n",
    "Napisz funkcję `hiperkula(r, n)` obliczającą objętość $n$ wymiarowej hiperkuli o promieniu $r$. Korzystając z tej funkcji, wyznacz objętości kuli dla $r=1$ oraz $n=1, \\ldots, 10$. \n",
    "\n",
    "Podpowiedź: funkcję gamma Eulera znajdziesz w module `math`.\n",
    "\n",
    "Rozwiązanie umieść poniżej."
   ]
  },
  {
   "cell_type": "code",
   "execution_count": 13,
   "id": "60e563f3",
   "metadata": {},
   "outputs": [
    {
     "data": {
      "text/plain": [
       "[1.9999999999999998,\n",
       " 3.141592653589793,\n",
       " 4.1887902047863905,\n",
       " 4.934802200544679,\n",
       " 5.263789013914325,\n",
       " 5.167712780049969,\n",
       " 4.7247659703314016,\n",
       " 4.058712126416768,\n",
       " 3.2985089027387064,\n",
       " 2.550164039877345]"
      ]
     },
     "execution_count": 13,
     "metadata": {},
     "output_type": "execute_result"
    }
   ],
   "source": [
    "def hiperkula(r, n):\n",
    "    return (math.pi**(n/2))/(math.gamma((n/2)+1))*(r**n)\n",
    "objetosci = [hiperkula(1, n) for n in range(1, 11)]\n",
    "objetosci"
   ]
  },
  {
   "cell_type": "markdown",
   "id": "207d2a60",
   "metadata": {},
   "source": [
    "#### podpunkt b\n",
    "\n",
    "Dla jakiej liczby wymiarów objętość hiperkuli o promieniu jeden jest największa?\n",
    "\n",
    "Podpowiedź: Załóżmy, że szukamy $n \\in \\{0, \\ldots, 99\\}$ minimalizującego wartość pewnej funkcji $f(n)$. Rozważ poniższy kod --- jak myślisz, wybranie minimum z listy par zadziała tak, jak tego oczekujemy?\n",
    "```python\n",
    "pary = {(f(n), n) for n in range(100)}\n",
    "min(pary)\n",
    "```\n",
    "\n",
    "Rozwiązanie umieść w komórce poniżej."
   ]
  },
  {
   "cell_type": "code",
   "execution_count": 14,
   "id": "64b58990",
   "metadata": {},
   "outputs": [
    {
     "data": {
      "text/plain": [
       "(5.263789013914325, 5)"
      ]
     },
     "execution_count": 14,
     "metadata": {},
     "output_type": "execute_result"
    }
   ],
   "source": [
    "pary = {(hiperkula(1, n), n) for n in range(100)}\n",
    "max(pary)"
   ]
  },
  {
   "cell_type": "markdown",
   "id": "c006cd43",
   "metadata": {},
   "source": [
    "Objętość hiperkuli o promieniu jeden jest największa dla liczby wymiarów 5"
   ]
  },
  {
   "cell_type": "markdown",
   "id": "3d7a18a0",
   "metadata": {},
   "source": [
    "\n",
    "<div style=\"text-align: right\"> Powodzenia!<br><i>Zespół kursu Wstęp do programowania</i></div>"
   ]
  },
  {
   "cell_type": "code",
   "execution_count": null,
   "id": "a462bb91",
   "metadata": {},
   "outputs": [],
   "source": []
  }
 ],
 "metadata": {
  "kernelspec": {
   "display_name": "Python 3 (ipykernel)",
   "language": "python",
   "name": "python3"
  },
  "language_info": {
   "codemirror_mode": {
    "name": "ipython",
    "version": 3
   },
   "file_extension": ".py",
   "mimetype": "text/x-python",
   "name": "python",
   "nbconvert_exporter": "python",
   "pygments_lexer": "ipython3",
   "version": "3.11.6"
  }
 },
 "nbformat": 4,
 "nbformat_minor": 5
}
